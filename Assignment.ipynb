{
 "cells": [
  {
   "cell_type": "markdown",
   "metadata": {},
   "source": [
    "### Imports"
   ]
  },
  {
   "cell_type": "code",
   "execution_count": 1,
   "metadata": {},
   "outputs": [],
   "source": [
    "# Some imports to get you started:\n",
    "import os\n",
    "\n",
    "# Basic langchain stuff\n",
    "from langchain_openai import OpenAI, ChatOpenAI\n",
    "from langchain_core.prompts import PromptTemplate, ChatPromptTemplate\n",
    "\n",
    "# Embedding / retrieval stuff\n",
    "from langchain_community.document_loaders import WebBaseLoader\n",
    "from langchain_openai import OpenAIEmbeddings\n",
    "from langchain_community.vectorstores import FAISS\n",
    "from langchain_text_splitters import RecursiveCharacterTextSplitter\n",
    "from langchain.chains.combine_documents import create_stuff_documents_chain\n",
    "from langchain.chains import create_retrieval_chain\n",
    "\n",
    "# Agent stuff\n",
    "from langchain_core.prompts import MessagesPlaceholder\n",
    "from langchain.agents.format_scratchpad.openai_tools import format_to_openai_tool_messages\n",
    "from langchain.agents.output_parsers.openai_tools import OpenAIToolsAgentOutputParser\n",
    "from langchain.agents import AgentExecutor\n",
    "\n",
    "# Tool stuff (requires wikipedia)\n",
    "from langchain_community.utilities import WikipediaAPIWrapper\n",
    "from langchain.tools import WikipediaQueryRun"
   ]
  },
  {
   "cell_type": "markdown",
   "metadata": {},
   "source": [
    "# Tiny Hacking Assignment!\n",
    "\n",
    "Now that you have gotten a feeling for what value LangChain can bring you, it is time to get your hands dirty!\n",
    "\n",
    "Your assignment is as follows: __make the coolest/most original/most valuable LangChain PoC for generating tiny hacking session ideas__. \n",
    "\n",
    "Here are some ideas to get your brain juices flowing: \n",
    "- Make a PoC for brainstorming ideas. Simple and basic. You can extend this idea with some advanced prompt engineering, adding a streamlit interface, or adding LangSmith support!\n",
    "- Make a PoC which retrieves a popular new paper from ArXiv (see tool integrations for both google (Robin has API key) and arxiv, and potentially Exa (prev. Metaphor)), and use the retrieved web data to explain the concept and make a fun coding challenge. \n",
    "- Make a PoC which makes a coding example that works (use the Python interpreter tool), and then strips code which is then for the tiny hacking participants to fill in.\n",
    "- Make a PoC which uses retrieval to retrieve documents of previous ideas (and fill them with some generated chatgpt stuff for now). This can be super valuable in the future!\n",
    "- Make a PoC which just looks really really nice. "
   ]
  },
  {
   "cell_type": "markdown",
   "metadata": {},
   "source": [
    "### Let's code!"
   ]
  },
  {
   "cell_type": "code",
   "execution_count": 2,
   "metadata": {},
   "outputs": [],
   "source": [
    "import os\n",
    "\n",
    "# Make sure to set your API key!\n",
   ]
  },
  {
   "cell_type": "code",
   "execution_count": 3,
   "metadata": {},
   "outputs": [],
   "source": [
    "chat_llm = ChatOpenAI()\n",
    "\n",
    "prompt = ChatPromptTemplate.from_messages(\n",
    "    [\n",
    "        (\"system\", \"It is your task to ...\"),\n",
    "        (\"user\", \"{user_input}\"),\n",
    "    ]\n",
    ")\n",
    "\n",
    "chain = prompt | chat_llm\n",
    "\n",
    "response = chain.invoke({'user_input': \"brainstorm tiny hacking ideas\"})"
   ]
  },
  {
   "cell_type": "code",
   "execution_count": 7,
   "metadata": {},
   "outputs": [
    {
     "name": "stdout",
     "output_type": "stream",
     "text": [
      "Here are some ideas for meetups that could be interesting and engaging for participants:\n",
      "\n",
      "1. \"Tech Talk Tuesdays\": A weekly meetup where tech enthusiasts can come together to discuss the latest trends, innovations, and challenges in the tech industry.\n",
      "\n",
      "2. \"Outdoor Adventure Group\": A monthly meetup where outdoor enthusiasts can come together for hiking, kayaking, camping, and other outdoor activities.\n",
      "\n",
      "3. \"Creative Writing Workshop\": A bi-weekly meetup for aspiring writers to share their work, receive feedback, and participate in writing exercises and prompts.\n",
      "\n",
      "4. \"Wellness Wednesdays\": A weekly meetup focusing on holistic wellness, including yoga sessions, meditation, healthy cooking demonstrations, and discussions on mental health.\n",
      "\n",
      "5. \"Startup Networking Night\": A monthly meetup for entrepreneurs, investors, and professionals in the startup community to network, share ideas, and collaborate on projects.\n",
      "\n",
      "6. \"Book Club Brunch\": A monthly meetup for book lovers to discuss a chosen book over brunch at a local cafe or restaurant.\n",
      "\n",
      "7. \"Language Exchange Meetup\": A bi-weekly meetup for language learners to practice speaking with native speakers, participate in language games, and share cultural insights.\n",
      "\n",
      "8. \"DIY Craft Night\": A fun and creative meetup where participants can bring their own craft projects to work on, share tips and techniques, and socialize with fellow crafters.\n",
      "\n",
      "9. \"Mindful Meditation Meetup\": A weekly meetup focusing on mindfulness meditation practices, guided meditation sessions, and discussions on mindfulness techniques for everyday life.\n",
      "\n",
      "10. \"Financial Fitness Workshop\": A monthly meetup to discuss personal finance topics such as budgeting, saving, investing, and retirement planning, with guest speakers and interactive activities to help participants improve their financial literacy.\n"
     ]
    }
   ],
   "source": [
    "prompt = \"generating great ideas for meetups\"\n",
    "response = chain.invoke({'user_input': f\"{prompt}\"})\n",
    "print(response.content)"
   ]
  },
  {
   "cell_type": "code",
   "execution_count": 8,
   "metadata": {},
   "outputs": [
    {
     "name": "stdout",
     "output_type": "stream",
     "text": [
      "Here are some ideas for meetups that could be interesting and engaging for participants:\n",
      "\n",
      "1. \"Tech Talk Tuesdays\": A weekly meetup where tech enthusiasts can come together to discuss the latest trends, innovations, and challenges in the tech industry.\n",
      "\n",
      "2. \"Outdoor Adventure Group\": A monthly meetup where outdoor enthusiasts can come together for hiking, kayaking, camping, and other outdoor activities.\n",
      "\n",
      "3. \"Creative Writing Workshop\": A bi-weekly meetup for aspiring writers to share their work, receive feedback, and participate in writing exercises and prompts.\n",
      "\n",
      "4. \"Wellness Wednesdays\": A weekly meetup focusing on holistic wellness, including yoga sessions, meditation, healthy cooking demonstrations, and discussions on mental health.\n",
      "\n",
      "5. \"Startup Networking Night\": A monthly meetup for entrepreneurs, investors, and professionals in the startup community to network, share ideas, and collaborate on projects.\n",
      "\n",
      "6. \"Book Club Brunch\": A monthly meetup for book lovers to discuss a chosen book over brunch at a local cafe or restaurant.\n",
      "\n",
      "7. \"Language Exchange Meetup\": A bi-weekly meetup for language learners to practice speaking with native speakers, participate in language games, and share cultural insights.\n",
      "\n",
      "8. \"DIY Craft Night\": A fun and creative meetup where participants can bring their own craft projects to work on, share tips and techniques, and socialize with fellow crafters.\n",
      "\n",
      "9. \"Mindful Meditation Meetup\": A weekly meetup focusing on mindfulness meditation practices, guided meditation sessions, and discussions on mindfulness techniques for everyday life.\n",
      "\n",
      "10. \"Financial Fitness Workshop\": A monthly meetup to discuss personal finance topics such as budgeting, saving, investing, and retirement planning, with guest speakers and interactive activities to help participants improve their financial literacy.\n"
     ]
    }
   ],
   "source": [
    "print(response.content)"
   ]
  },
  {
   "cell_type": "code",
   "execution_count": 4,
   "metadata": {},
   "outputs": [],
   "source": [
    "from langchain_community.document_loaders import ArxivLoader"
   ]
  },
  {
   "cell_type": "code",
   "execution_count": 12,
   "metadata": {},
   "outputs": [],
   "source": [
    "# load arxiv documents using the arxiv loader\n",
    "arxiv_loader = ArxivLoader(query=\"algo trading\")"
   ]
  },
  {
   "cell_type": "code",
   "execution_count": 14,
   "metadata": {},
   "outputs": [
    {
     "data": {
      "text/plain": [
       "[Document(page_content='Modern Algorithmic Trading (\"Algo\") allows institutional investors and\\ntraders to liquidate or establish big security positions in a fully automated\\nor low-touch manner. Most existing academic or industrial Algos focus on how to\\n\"slice\" a big parent order into smaller child orders over a given time horizon.\\nFew models rigorously tackle the actual placement of these child orders.\\nInstead, placement is mostly done with a combination of empirical signals and\\nheuristic decision processes. A self-contained, realistic, and fully functional\\nChild Order Placement (COP) model may never exist due to all the inherent\\ncomplexities, e.g., fragmentation due to multiple venues, dynamics of limit\\norder books, lit vs. dark liquidity, different trading sessions and rules. In\\nthis paper, we propose a reductionism COP model that focuses exclusively on the\\ninterplay between placing passive limit orders and sniping using aggressive\\ntakeout orders. The dynamic programming model assumes the form of a stochastic\\nlinear-quadratic regulator (LQR) and allows closed-form solutions under the\\nbackward Bellman equations. Explored in detail are model assumptions and\\ngeneral settings, the choice of state and control variables and the cost\\nfunctions, and the derivation of the closed-form solutions.', metadata={'Entry ID': 'http://arxiv.org/abs/2004.13797v1', 'Published': datetime.date(2020, 4, 28), 'Title': 'A Stochastic LQR Model for Child Order Placement in Algorithmic Trading', 'Authors': 'Jackie Jianhong Shen'}),\n",
       " Document(page_content='This editorial article partially informs the algorithmic trading community\\nabout launching of the new journal \"Algorithmic Trading and Controls\" (ATC).\\nATC is an online open-access journal that publishes novel works on algorithmic\\ntrading and its control methodologies. In this inaugural article, we discuss\\nnine major challenges that contemporary Algo trading faces. There is nothing\\nsuperstitiously magical about the number \"nine,\" but so is any other one.\\nSeveral of these challenges are at the strategy level, including for example,\\ntrading of illiquid securities or optimal portfolio execution. Others are more\\nat the level of risk management and controls, such as on how to develop\\nautomated controls, testing and simulations. The editorial views could be\\ninevitably personal and biased, but have been explored with the most innocent\\nintention of contributing to this important field in modern financial services\\nand technologies.', metadata={'Entry ID': 'http://arxiv.org/abs/2101.08813v1', 'Published': datetime.date(2021, 1, 21), 'Title': 'Nine Challenges in Modern Algorithmic Trading and Controls', 'Authors': 'Jackie Shen'}),\n",
       " Document(page_content='Working on different aspects of algorithmic trading we empirically discovered\\na new market invariant. It links together the volatility of the instrument with\\nits traded volume, the average spread and the volume in the order book. The\\ninvariant has been tested on different markets and different asset classes. In\\nall cases we did not find significant violation of the invariant. The formula\\nfor the invariant was used for the volatility estimation, which we called the\\ninstantaneous volatility. Quantitative comparison showed that it reproduces\\nrealised volatility better than one-day-ahead GARCH(1,1) prediction. Because of\\nthe short-term prediction nature, the instantaneous volatility could be used by\\nalgo developers, volatility traders and other market professionals.', metadata={'Entry ID': 'http://arxiv.org/abs/1908.02847v2', 'Published': datetime.date(2019, 8, 13), 'Title': 'An instantaneous market volatility estimation', 'Authors': 'Oleh Danyliv, Bruce Bland'})]"
      ]
     },
     "execution_count": 14,
     "metadata": {},
     "output_type": "execute_result"
    }
   ],
   "source": [
    "arxiv_loader.get_summaries_as_docs()"
   ]
  },
  {
   "cell_type": "code",
   "execution_count": 5,
   "metadata": {},
   "outputs": [],
   "source": [
    "from langchain_community.retrievers import ArxivRetriever\n",
    "retriever = ArxivRetriever(load_max_docs=2)"
   ]
  },
  {
   "cell_type": "code",
   "execution_count": 32,
   "metadata": {},
   "outputs": [],
   "source": [
    "# how to obtain article list?\n",
    "import arxiv\n",
    "\n",
    "# Create a search query\n",
    "search = arxiv.Search(\n",
    "    query=\"algo trading\",\n",
    "    max_results=2,\n",
    "    sort_by=arxiv.SortCriterion.SubmittedDate\n",
    ")\n",
    "\n",
    "# # Execute the search\n",
    "# for result in search.results():\n",
    "#     print(f\"Title: {result.title}\")\n",
    "#     print(f\"arXiv ID: {result.get_short_id()}\\n\")\n"
   ]
  },
  {
   "cell_type": "code",
   "execution_count": 33,
   "metadata": {},
   "outputs": [
    {
     "name": "stderr",
     "output_type": "stream",
     "text": [
      "C:\\Users\\503284\\AppData\\Local\\Temp\\ipykernel_20704\\1117263757.py:1: DeprecationWarning: The 'Search.results' method is deprecated, use 'Client.results' instead\n",
      "  for result in search.results():\n"
     ]
    },
    {
     "name": "stdout",
     "output_type": "stream",
     "text": [
      "{'source': 'https://www.lelystad.nl/subsidies', 'title': 'Subsidies | Gemeente Lelystad', 'description': 'Hieronder vindt u informatie over de landelijke subsidiedatabank en een overzicht van de subsidies die door de gemeente Lelystad worden verstrekt.', 'language': 'nl'}\n",
      "Subsidies | Gemeente Lelystad\n",
      "\n",
      "\n",
      "\n",
      "\n",
      "\n",
      "\n",
      "\n",
      "\n",
      "\n",
      "\n",
      "\n",
      "\n",
      "\n",
      "\n",
      "\n",
      "\n",
      "\n",
      "\n",
      "\n",
      "\n",
      "\n",
      "\n",
      "Naar hoofdinhoudNaar hoofdmenu\n",
      "\n",
      " \n",
      "\n",
      "\n",
      "\n",
      "\n",
      "C\n",
      "C\n",
      "\n",
      "\n",
      "\n",
      "   \n",
      " \n",
      "\n",
      "\n",
      "\n",
      "\n",
      "\n",
      "\n",
      "\n",
      "\n",
      "\n",
      "\n",
      "\n",
      "\n",
      "   \n",
      "\n",
      "    Navigatie    Het menu is dichtgeklapt        INWONER       ONDERNEMEN       STAD EN BESTUUR       VRIJE TIJD     \n",
      "\n",
      "zoeken\n",
      "\n",
      "\n",
      "\n",
      "Start zoeken \n",
      "\n",
      "\n",
      "\n",
      " \n",
      "het menu is dichtgeklapt.\n",
      "  \n",
      "\n",
      "\n",
      "Home\n",
      "Subsidies\n",
      "   \n",
      " \n",
      "SubsidiesHieronder vindt u informatie over de landelijke subsidiedatabank en een\n",
      "{'source': 'https://www.lelystad.nl/subsidies', 'title': 'Subsidies | Gemeente Lelystad', 'description': 'Hieronder vindt u informatie over de landelijke subsidiedatabank en een overzicht van de subsidies die door de gemeente Lelystad worden verstrekt.', 'language': 'nl'}\n",
      "Subsidies | Gemeente Lelystad\n",
      "\n",
      "\n",
      "\n",
      "\n",
      "\n",
      "\n",
      "\n",
      "\n",
      "\n",
      "\n",
      "\n",
      "\n",
      "\n",
      "\n",
      "\n",
      "\n",
      "\n",
      "\n",
      "\n",
      "\n",
      "\n",
      "\n",
      "Naar hoofdinhoudNaar hoofdmenu\n",
      "\n",
      " \n",
      "\n",
      "\n",
      "\n",
      "\n",
      "C\n",
      "C\n",
      "\n",
      "\n",
      "\n",
      "   \n",
      " \n",
      "\n",
      "\n",
      "\n",
      "\n",
      "\n",
      "\n",
      "\n",
      "\n",
      "\n",
      "\n",
      "\n",
      "\n",
      "   \n",
      "\n",
      "    Navigatie    Het menu is dichtgeklapt        INWONER       ONDERNEMEN       STAD EN BESTUUR       VRIJE TIJD     \n",
      "\n",
      "zoeken\n",
      "\n",
      "\n",
      "\n",
      "Start zoeken \n",
      "\n",
      "\n",
      "\n",
      " \n",
      "het menu is dichtgeklapt.\n",
      "  \n",
      "\n",
      "\n",
      "Home\n",
      "Subsidies\n",
      "   \n",
      " \n",
      "SubsidiesHieronder vindt u informatie over de landelijke subsidiedatabank en een\n"
     ]
    }
   ],
   "source": [
    "for result in search.results():\n",
    "    docs = retriever.invoke(result.get_short_id())\n",
    "    print(docs[0].metadata) # meta-information of the Document\n",
    "    print(docs[0].page_content[:400])  # a content of the Document"
   ]
  },
  {
   "cell_type": "code",
   "execution_count": 9,
   "metadata": {},
   "outputs": [
    {
     "name": "stdout",
     "output_type": "stream",
     "text": [
      "Show me the state-of-the-art science on algo trading\n"
     ]
    },
    {
     "data": {
      "text/plain": [
       "'\\n\\nAlgo trading, also known as algorithmic trading, is a method of executing orders in financial markets using automated and pre-programmed trading instructions. It involves using computer algorithms to make trading decisions, with the goal of achieving higher efficiency and speed compared to manual trading methods.\\n\\nThe state-of-the-art science on algo trading has been constantly evolving and there have been several advancements in recent years. Some of the key areas of research and development in this field are:\\n\\n1. Machine Learning and Artificial Intelligence: With the availability of large amounts of data and advancements in machine learning and artificial intelligence, there has been a significant push towards using these technologies in algo trading. Researchers are developing algorithms that can learn from historical data and make predictions about future market movements. This helps in making more accurate and profitable trading decisions.\\n\\n2. High-Frequency Trading (HFT): HFT is a type of algo trading that involves using sophisticated algorithms to execute trades at high speeds. With the increasing competition and demand for faster trading, there has been a lot of research on optimizing HFT strategies. This includes developing faster and more efficient trading algorithms, as well as exploring new technologies such as microwave and laser networks for even faster trade executions.\\n\\n3. Reinforcement Learning: Reinforcement learning is a type of machine'"
      ]
     },
     "execution_count": 9,
     "metadata": {},
     "output_type": "execute_result"
    }
   ],
   "source": [
    "# How do Chains work?\n",
    "llm = OpenAI()\n",
    "arxiv_prompt = PromptTemplate.from_template(\"Show me the state-of-the-art science on {keyword}\")\n",
    "formatted_arxiv_prompt = arxiv_prompt.format(keyword=\"algo trading\")\n",
    "print(formatted_arxiv_prompt)\t\n",
    "llm.invoke(formatted_arxiv_prompt)"
   ]
  },
  {
   "cell_type": "code",
   "execution_count": 26,
   "metadata": {},
   "outputs": [
    {
     "data": {
      "text/plain": [
       "AIMessage(content='Algorithmic trading, also known as algo trading, is a method of executing trades using automated pre-programmed trading instructions. It involves the use of algorithms to make trading decisions and execute trades at high speeds and frequencies.\\n\\nState-of-the-art research in algo trading focuses on developing advanced algorithms and techniques to improve trading performance, reduce risks, and increase profits. Some of the key areas of research in algo trading include:\\n\\n1. Machine learning and artificial intelligence: Machine learning and AI techniques are widely used in algo trading to develop predictive models that can analyze market data and make trading decisions. These models can identify patterns and trends in market data that human traders may not be able to detect.\\n\\n2. High-frequency trading: High-frequency trading involves executing a large number of trades at very high speeds. Research in this area focuses on developing algorithms and infrastructure that can execute trades faster and more efficiently than human traders.\\n\\n3. Market microstructure: Market microstructure refers to the study of how trading takes place in financial markets. Researchers in this field focus on understanding the interactions between market participants, the impact of market structure on trading behavior, and the implications for algo trading strategies.\\n\\n4. Risk management: Risk management is a crucial aspect of algo trading, as it involves managing the risks associated with automated trading strategies. Research in this area focuses on developing risk models and techniques to quantify and manage risks in algo trading.\\n\\nOverall, state-of-the-art research in algo trading is focused on developing advanced algorithms, techniques, and models to improve trading performance, reduce risks, and increase profitability in financial markets. Researchers are constantly exploring new ideas and innovations to stay ahead of the competition and adapt to the rapidly changing landscape of algorithmic trading.', response_metadata={'token_usage': {'completion_tokens': 339, 'prompt_tokens': 18, 'total_tokens': 357}, 'model_name': 'gpt-3.5-turbo', 'system_fingerprint': 'fp_a450710239', 'finish_reason': 'stop', 'logprobs': None}, id='run-a0110cc3-6438-4853-8770-006f23d4be1b-0')"
      ]
     },
     "execution_count": 26,
     "metadata": {},
     "output_type": "execute_result"
    }
   ],
   "source": [
    "chat_llm.invoke(formatted_arxiv_prompt)"
   ]
  },
  {
   "cell_type": "code",
   "execution_count": 10,
   "metadata": {},
   "outputs": [
    {
     "data": {
      "text/plain": [
       "'\\n\\nEnergy trading is a complex and constantly evolving field, and there is ongoing research and development in the area to improve efficiency, reliability, and sustainability. Here are some recent advancements and state-of-the-art science in energy trading:\\n\\n1. Artificial Intelligence (AI) and Machine Learning (ML) in Energy Trading: AI and ML techniques are being increasingly used in energy trading to analyze large amounts of data and make more accurate predictions and decisions. These technologies can help traders optimize their portfolios, reduce risk, and identify profitable opportunities in real-time.\\n\\n2. Blockchain Technology: Blockchain technology has the potential to revolutionize energy trading by providing a secure and transparent platform for peer-to-peer trading. It can enable direct transactions between energy producers and consumers without the need for intermediaries, reducing costs and increasing efficiency.\\n\\n3. Predictive Analytics: Predictive analytics uses historical and real-time data to forecast future energy prices, demand, and supply. This can help traders make informed decisions and minimize risks in their trading activities.\\n\\n4. Renewable Energy Integration: With the increasing adoption of renewable energy sources, there is a need for efficient integration of these sources into the energy trading system. Advanced algorithms and market mechanisms are being developed to incorporate renewable energy into the grid and optimize its use.\\n\\n5. Demand Response Programs:'"
      ]
     },
     "execution_count": 10,
     "metadata": {},
     "output_type": "execute_result"
    }
   ],
   "source": [
    "chain = arxiv_prompt | llm\n",
    "chain.invoke({\"keyword\": \"energy trading\"})"
   ]
  },
  {
   "cell_type": "code",
   "execution_count": 22,
   "metadata": {},
   "outputs": [],
   "source": [
    "from langchain_openai import OpenAI, ChatOpenAI\n",
    "llm = OpenAI()\n",
    "chat_llm = ChatOpenAI()"
   ]
  },
  {
   "cell_type": "markdown",
   "metadata": {},
   "source": [
    "# How to do the langchain retrieval?"
   ]
  },
  {
   "cell_type": "markdown",
   "metadata": {},
   "source": []
  },
  {
   "cell_type": "code",
   "execution_count": 11,
   "metadata": {},
   "outputs": [],
   "source": [
    "from langchain_community.document_loaders import WebBaseLoader\n",
    "from langchain_openai import OpenAIEmbeddings\n",
    "from langchain_community.vectorstores import FAISS\n",
    "from langchain_text_splitters import RecursiveCharacterTextSplitter\n",
    "from langchain.chains.combine_documents import create_stuff_documents_chain\n",
    "from langchain.chains import create_retrieval_chain\n",
    "from langchain_core.prompts import ChatPromptTemplate"
   ]
  },
  {
   "cell_type": "code",
   "execution_count": 16,
   "metadata": {},
   "outputs": [],
   "source": [
    "loader = WebBaseLoader(\"https://www.lelystad.nl/subsidies\")\n",
    "docs = loader.load()"
   ]
  },
  {
   "cell_type": "code",
   "execution_count": 18,
   "metadata": {},
   "outputs": [],
   "source": [
    "embeddings = OpenAIEmbeddings()"
   ]
  },
  {
   "cell_type": "code",
   "execution_count": 19,
   "metadata": {},
   "outputs": [],
   "source": [
    "text_splitter = RecursiveCharacterTextSplitter()\n",
    "documents = text_splitter.split_documents(docs)"
   ]
  },
  {
   "cell_type": "code",
   "execution_count": 21,
   "metadata": {},
   "outputs": [],
   "source": [
    "vector = FAISS.from_documents(documents, embeddings)"
   ]
  },
  {
   "cell_type": "code",
   "execution_count": 23,
   "metadata": {},
   "outputs": [],
   "source": [
    "prompt = ChatPromptTemplate.from_template(\"\"\"Answer the following question based only on the provided context:\n",
    "    <context>\n",
    "    {context}\n",
    "    </context>\n",
    "Question: {input}\"\"\")"
   ]
  },
  {
   "cell_type": "code",
   "execution_count": 24,
   "metadata": {},
   "outputs": [],
   "source": [
    "document_chain = create_stuff_documents_chain(chat_llm, prompt)\n",
    "retriever = vector.as_retriever()\n",
    "retriever_chain = create_retrieval_chain(retriever, document_chain)"
   ]
  },
  {
   "cell_type": "code",
   "execution_count": 25,
   "metadata": {},
   "outputs": [],
   "source": [
    "response = retriever_chain.invoke({\"input\": \"How to obtain a subsidy for a new business?\"})"
   ]
  },
  {
   "cell_type": "code",
   "execution_count": 26,
   "metadata": {},
   "outputs": [
    {
     "name": "stdout",
     "output_type": "stream",
     "text": [
      "Based on the provided context, to obtain a subsidy for a new business in Lelystad, you would need to search for the relevant subsidy regulation for entrepreneurs on the Gemeente Lelystad website. Once you find the specific regulation, you can click on the link to find more information about the conditions and activities eligible for subsidy. You can then digitally apply for the subsidy through the website. If you cannot find the information you need, you can contact the subsidy bureau via email at subsidiebureau@lelystad.nl or by calling 14 0320 and asking for a subsidy bureau staff member.\n"
     ]
    }
   ],
   "source": [
    "print(response[\"answer\"])"
   ]
  },
  {
   "cell_type": "markdown",
   "metadata": {},
   "source": [
    "# How to use Agents (& Tools, and Parsers)"
   ]
  },
  {
   "cell_type": "code",
   "execution_count": 27,
   "metadata": {},
   "outputs": [],
   "source": [
    "from langchain_community.utilities import WikipediaAPIWrapper\n",
    "from langchain.tools import WikipediaQueryRun\n",
    "from langchain_core.prompts import ChatPromptTemplate, MessagesPlaceholder\n",
    "from langchain.agents.format_scratchpad.openai_tools import format_to_openai_tool_messages\n",
    "from langchain.agents.output_parsers.openai_tools import OpenAIToolsAgentOutputParser\n",
    "from langchain.agents import AgentExecutor\n"
   ]
  },
  {
   "cell_type": "code",
   "execution_count": 28,
   "metadata": {},
   "outputs": [
    {
     "name": "stdout",
     "output_type": "stream",
     "text": [
      "\n",
      "\n",
      "\u001b[1m> Entering new AgentExecutor chain...\u001b[0m\n",
      "\n",
      "INPUT: {'topic1': 'China', 'topic2': 'USA', 'intermediate_steps': []}\n",
      "\u001b[32;1m\u001b[1;3m\n",
      "Invoking: `wikipedia` with `China–United States relations`\n",
      "\n",
      "\n",
      "\u001b[0m\u001b[36;1m\u001b[1;3mPage: China–United States relations\n",
      "Summary: The relationship between the People's Republic of China (PRC) and the United States of America (USA) has been complex and at times contentious since the establishment of the PRC and the retreat of the government of the Republic of China to Taiwan in 1949. Since the normalization of relations in the 1970s, the US–China relationship has been marked by numerous perennial disputes including the political status of Taiwan, territorial disputes in the South China Sea, and more recently the treatment of Uyghurs in Xinjiang. They have significant economic ties and are significantly intertwined, yet they also have a global hegemonic great power rivalry. As of 2023, China and the United States are the world's second-largest and largest economies by nominal GDP, as well as the largest and second-largest economies by GDP (PPP) respectively. Collectively, they account for 44.2% of the global nominal GDP, and 34.7% of global PPP-adjusted GDP.\n",
      "One of the first major events between the United States and Chinese governments was the 1845 Treaty of Wangxia. Trade grew slowly, with talk of a giant buyers' market in China always making the rounds among American capitalists. In 1900, Washington joined the imperial powers of Europe and the Empire of Japan in sending troops to crush the anti-imperialist Boxer Rebellion. The Open Door Policy ostensibly opposed the subsequent carving up of China into spheres of influence among the victorious powers. Hopes that American financial power would be ascendant failed to materialize, as efforts during the Taft presidency  to aid American banks invest in Chinese railways failed. President Franklin D. Roosevelt made support of China during the Second Sino-Japanese War. The US  allied itself with the Republic of China (ROC), under which the Chinese Civil War had paused, with the ROC and Chinese Communist Party (CCP) forming a unified front to fight the Japanese—after the Americans joined the war against Japan in 1941. After the end of World War II and the resumption of the civil war, the US tried and failed to negotiate a settlement between the Nationalists and Communists, with the latter eventually achieving victory, driving the Nationalist government into exile on Taiwan, and proclaiming the establishment of the People's Republic of China (PRC) in 1949. Relations between the US and the new Chinese government quickly soured. An early setpiece of the emerging global Cold War was the American-led United Nations intervention in the Korean War: China reacted by joining the war against the UN, sending millions of Chinese fighters to prevent a US presence on the Chinese border. For decades, the US refused to recognize the PRC as China's legitimate government, in favor of the ROC based in Taiwan, and as such blocked the PRC's membership in the United Nations. After the Sino-Soviet split, the winding down of America's war in Vietnam, as well as of the Cultural Revolution, US President Nixon's 1972 visit to China came as a shock to many observers, ultimately marking a sea change in US–China relations. On 1 January 1979, the US formally established diplomatic relations with the PRC, and recognized it as the sole legitimate government of China. However, it did not cease its military support for the ROC on Taiwan, working within the framework of the Taiwan Relations Act, with this issue continuing as a major point of contention between the two countries to the present day.\n",
      "Every US president since Nixon has toured China, with the exception of Jimmy Carter. The Obama administration signed a record number of bilateral agreements with China, particularly regarding climate change, even as its East Asian pivot strategy strained relations. The advent of the Xi administration would prefigure a sharp downturn in these relations, which was then further entrenched upon the election of President Donald Trump, who had promised a combative stance towards China as a part of his campaign, which\u001b[0m\n",
      "INPUT: {'topic1': 'China', 'topic2': 'USA', 'intermediate_steps': [(ToolAgentAction(tool='wikipedia', tool_input='China–United States relations', log='\\nInvoking: `wikipedia` with `China–United States relations`\\n\\n\\n', message_log=[AIMessageChunk(content='', additional_kwargs={'tool_calls': [{'index': 0, 'id': 'call_TAGkHzTaync2zh5YEZhxZp51', 'function': {'arguments': '{\"__arg1\":\"China–United States relations\"}', 'name': 'wikipedia'}, 'type': 'function'}]}, response_metadata={'finish_reason': 'tool_calls'}, id='run-8dd0e061-79fd-4693-8eff-fc98b76e29d9', tool_calls=[{'name': 'wikipedia', 'args': {'__arg1': 'China–United States relations'}, 'id': 'call_TAGkHzTaync2zh5YEZhxZp51'}], tool_call_chunks=[{'name': 'wikipedia', 'args': '{\"__arg1\":\"China–United States relations\"}', 'id': 'call_TAGkHzTaync2zh5YEZhxZp51', 'index': 0}])], tool_call_id='call_TAGkHzTaync2zh5YEZhxZp51'), \"Page: China–United States relations\\nSummary: The relationship between the People's Republic of China (PRC) and the United States of America (USA) has been complex and at times contentious since the establishment of the PRC and the retreat of the government of the Republic of China to Taiwan in 1949. Since the normalization of relations in the 1970s, the US–China relationship has been marked by numerous perennial disputes including the political status of Taiwan, territorial disputes in the South China Sea, and more recently the treatment of Uyghurs in Xinjiang. They have significant economic ties and are significantly intertwined, yet they also have a global hegemonic great power rivalry. As of 2023, China and the United States are the world's second-largest and largest economies by nominal GDP, as well as the largest and second-largest economies by GDP (PPP) respectively. Collectively, they account for 44.2% of the global nominal GDP, and 34.7% of global PPP-adjusted GDP.\\nOne of the first major events between the United States and Chinese governments was the 1845 Treaty of Wangxia. Trade grew slowly, with talk of a giant buyers' market in China always making the rounds among American capitalists. In 1900, Washington joined the imperial powers of Europe and the Empire of Japan in sending troops to crush the anti-imperialist Boxer Rebellion. The Open Door Policy ostensibly opposed the subsequent carving up of China into spheres of influence among the victorious powers. Hopes that American financial power would be ascendant failed to materialize, as efforts during the Taft presidency  to aid American banks invest in Chinese railways failed. President Franklin D. Roosevelt made support of China during the Second Sino-Japanese War. The US  allied itself with the Republic of China (ROC), under which the Chinese Civil War had paused, with the ROC and Chinese Communist Party (CCP) forming a unified front to fight the Japanese—after the Americans joined the war against Japan in 1941. After the end of World War II and the resumption of the civil war, the US tried and failed to negotiate a settlement between the Nationalists and Communists, with the latter eventually achieving victory, driving the Nationalist government into exile on Taiwan, and proclaiming the establishment of the People's Republic of China (PRC) in 1949. Relations between the US and the new Chinese government quickly soured. An early setpiece of the emerging global Cold War was the American-led United Nations intervention in the Korean War: China reacted by joining the war against the UN, sending millions of Chinese fighters to prevent a US presence on the Chinese border. For decades, the US refused to recognize the PRC as China's legitimate government, in favor of the ROC based in Taiwan, and as such blocked the PRC's membership in the United Nations. After the Sino-Soviet split, the winding down of America's war in Vietnam, as well as of the Cultural Revolution, US President Nixon's 1972 visit to China came as a shock to many observers, ultimately marking a sea change in US–China relations. On 1 January 1979, the US formally established diplomatic relations with the PRC, and recognized it as the sole legitimate government of China. However, it did not cease its military support for the ROC on Taiwan, working within the framework of the Taiwan Relations Act, with this issue continuing as a major point of contention between the two countries to the present day.\\nEvery US president since Nixon has toured China, with the exception of Jimmy Carter. The Obama administration signed a record number of bilateral agreements with China, particularly regarding climate change, even as its East Asian pivot strategy strained relations. The advent of the Xi administration would prefigure a sharp downturn in these relations, which was then further entrenched upon the election of President Donald Trump, who had promised a combative stance towards China as a part of his campaign, which\")]}\n",
      "\u001b[32;1m\u001b[1;3mThe relationship between China and the USA has been complex and contentious since the establishment of the People's Republic of China in 1949. The two countries have significant economic ties and are intertwined, but they also have a global hegemonic great power rivalry. The history of their relationship includes events like the 1845 Treaty of Wangxia, the Boxer Rebellion, the Open Door Policy, and the American support of China during the Second Sino-Japanese War. The US allied with the Republic of China during World War II but later failed to negotiate a settlement between the Nationalists and Communists, leading to the victory of the CCP and the establishment of the People's Republic of China in 1949. The US and China were involved in the Korean War, with China sending millions of fighters to prevent a US presence on its border. The US did not recognize the PRC as China's legitimate government for many years, instead supporting the ROC based in Taiwan. The normalization of relations began in the 1970s, with President Nixon's visit to China in 1972 marking a significant turning point. Since then, every US president has toured China, except for Jimmy Carter. The Obama administration signed numerous bilateral agreements with China, particularly on climate change, while the Trump administration took a more combative stance towards China.\u001b[0m\n",
      "\n",
      "\u001b[1m> Finished chain.\u001b[0m\n"
     ]
    },
    {
     "data": {
      "text/plain": [
       "{'topic1': 'China',\n",
       " 'topic2': 'USA',\n",
       " 'output': \"The relationship between China and the USA has been complex and contentious since the establishment of the People's Republic of China in 1949. The two countries have significant economic ties and are intertwined, but they also have a global hegemonic great power rivalry. The history of their relationship includes events like the 1845 Treaty of Wangxia, the Boxer Rebellion, the Open Door Policy, and the American support of China during the Second Sino-Japanese War. The US allied with the Republic of China during World War II but later failed to negotiate a settlement between the Nationalists and Communists, leading to the victory of the CCP and the establishment of the People's Republic of China in 1949. The US and China were involved in the Korean War, with China sending millions of fighters to prevent a US presence on its border. The US did not recognize the PRC as China's legitimate government for many years, instead supporting the ROC based in Taiwan. The normalization of relations began in the 1970s, with President Nixon's visit to China in 1972 marking a significant turning point. Since then, every US president has toured China, except for Jimmy Carter. The Obama administration signed numerous bilateral agreements with China, particularly on climate change, while the Trump administration took a more combative stance towards China.\"}"
      ]
     },
     "execution_count": 28,
     "metadata": {},
     "output_type": "execute_result"
    }
   ],
   "source": [
    "# Initialize wikipedia tool, such that the agent has something to do ;) \n",
    "wikipedia_tool = WikipediaQueryRun(api_wrapper=WikipediaAPIWrapper())\n",
    "\n",
    "# Make sure to bind the tool to the llm, such that the llm can actually use the tool!\n",
    "llm_with_tools = chat_llm.bind_tools([wikipedia_tool])\n",
    "\n",
    "\n",
    "# Initialize the prompt.\n",
    "# For agents, you need to think of how the agent is allowed to 'think'. \n",
    "# Here, this is done by giving the agent access to an 'agent_scratchpad', where it can put all intermediate messages in.\n",
    "wikipedia_topic_link_prompt = ChatPromptTemplate.from_messages(\n",
    "    [\n",
    "        (\"system\", \"It is your task to make the most random and crazily weird connections between different topics by searching through wikipedia.\"),\n",
    "        (\"user\", \"What is the relation between {topic1} and {topic2}\"),\n",
    "        MessagesPlaceholder(variable_name=\"agent_scratchpad\"),\n",
    "    ]\n",
    ")\n",
    "\n",
    "# A helper function to visualize what the agent is actually doing:\n",
    "def input_print(param):\n",
    "    print(\"\\nINPUT:\", param)\n",
    "    return param\n",
    "\n",
    "# Intialize the agent, by chaining together several parts.\n",
    "agent = (\n",
    "    {   # This first part just formats inputs\n",
    "        # This is primarily important for the agent_scratchpad.\n",
    "        \"topic1\": lambda x: x['topic1'],\n",
    "        \"topic2\": lambda x: x['topic2'],\n",
    "        \"agent_scratchpad\": lambda x: format_to_openai_tool_messages(x[\"intermediate_steps\"]),\n",
    "        \"print\": lambda x: input_print(x),\n",
    "    }\n",
    "    | wikipedia_topic_link_prompt       # The inputs are fed to the prompt.\n",
    "    | llm_with_tools                    # The formatted prompt is handed down to the LLM, which might, or might not, invoke tools.\n",
    "    | OpenAIToolsAgentOutputParser()    # The output of the llm is formatted by a customer output parser which formats the LLM output such that it can be used as input again for new tools.\n",
    ")\n",
    "\n",
    "agent_executor = AgentExecutor(agent=agent, tools=[wikipedia_tool], verbose=True)\n",
    "\n",
    "agent_executor.invoke({\"topic1\": \"China\", \"topic2\": \"USA\"})"
   ]
  },
  {
   "cell_type": "markdown",
   "metadata": {},
   "source": [
    "# How to use LangSmith"
   ]
  },
  {
   "cell_type": "code",
   "execution_count": null,
   "metadata": {},
   "outputs": [],
   "source": []
  }
 ],
 "metadata": {
  "kernelspec": {
   "display_name": "LLMstandard",
   "language": "python",
   "name": "python3"
  },
  "language_info": {
   "codemirror_mode": {
    "name": "ipython",
    "version": 3
   },
   "file_extension": ".py",
   "mimetype": "text/x-python",
   "name": "python",
   "nbconvert_exporter": "python",
   "pygments_lexer": "ipython3",
   "version": "3.12.3"
  }
 },
 "nbformat": 4,
 "nbformat_minor": 2
}

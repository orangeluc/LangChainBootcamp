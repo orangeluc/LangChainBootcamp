{
 "cells": [
  {
   "cell_type": "markdown",
   "metadata": {},
   "source": [
    "### Imports"
   ]
  },
  {
   "cell_type": "code",
   "execution_count": 1,
   "metadata": {},
   "outputs": [],
   "source": [
    "# Some imports to get you started:\n",
    "import os\n",
    "\n",
    "# Basic langchain stuff\n",
    "from langchain_openai import OpenAI, ChatOpenAI\n",
    "from langchain_core.prompts import PromptTemplate, ChatPromptTemplate\n",
    "\n",
    "# Embedding / retrieval stuff\n",
    "from langchain_community.document_loaders import WebBaseLoader\n",
    "from langchain_openai import OpenAIEmbeddings\n",
    "from langchain_community.vectorstores import FAISS\n",
    "from langchain_text_splitters import RecursiveCharacterTextSplitter\n",
    "from langchain.chains.combine_documents import create_stuff_documents_chain\n",
    "from langchain.chains import create_retrieval_chain\n",
    "\n",
    "# Agent stuff\n",
    "from langchain_core.prompts import MessagesPlaceholder\n",
    "from langchain.agents.format_scratchpad.openai_tools import format_to_openai_tool_messages\n",
    "from langchain.agents.output_parsers.openai_tools import OpenAIToolsAgentOutputParser\n",
    "from langchain.agents import AgentExecutor\n",
    "\n",
    "# Tool stuff (requires wikipedia)\n",
    "from langchain_community.utilities import WikipediaAPIWrapper\n",
    "from langchain.tools import WikipediaQueryRun"
   ]
  },
  {
   "cell_type": "markdown",
   "metadata": {},
   "source": [
    "# Tiny Hacking Assignment!\n",
    "\n",
    "Now that you have gotten a feeling for what value LangChain can bring you, it is time to get your hands dirty!\n",
    "\n",
    "Your assignment is as follows: __make the coolest/most original/most valuable LangChain PoC for generating tiny hacking session ideas__. \n",
    "\n",
    "Here are some ideas to get your brain juices flowing: \n",
    "- Make a PoC for brainstorming ideas. Simple and basic. You can extend this idea with some advanced prompt engineering, adding a streamlit interface, or adding LangSmith support!\n",
    "- Make a PoC which retrieves a popular new paper from ArXiv (see tool integrations for both google (Robin has API key) and arxiv, and potentially Exa (prev. Metaphor)), and use the retrieved web data to explain the concept and make a fun coding challenge. \n",
    "- Make a PoC which makes a coding example that works (use the Python interpreter tool), and then strips code which is then for the tiny hacking participants to fill in.\n",
    "- Make a PoC which uses retrieval to retrieve documents of previous ideas (and fill them with some generated chatgpt stuff for now). This can be super valuable in the future!\n",
    "- Make a PoC which just looks really really nice. "
   ]
  },
  {
   "cell_type": "markdown",
   "metadata": {},
   "source": [
    "### Let's code!"
   ]
  },
  {
   "cell_type": "code",
   "execution_count": 3,
   "metadata": {},
   "outputs": [],
   "source": [
    "import os\n",
    "\n",
    "# Make sure to set your API key!\n",
    "os.environ['OPENAI_API_KEY'] = '...'"
   ]
  },
  {
   "cell_type": "code",
   "execution_count": 18,
   "metadata": {},
   "outputs": [],
   "source": [
    "chat_llm = ChatOpenAI()\n",
    "\n",
    "prompt = ChatPromptTemplate.from_messages(\n",
    "    [\n",
    "        (\"system\", \"It is your task to ...\"),\n",
    "        (\"user\", \"{user_input}\"),\n",
    "    ]\n",
    ")\n",
    "\n",
    "chain = prompt | chat_llm\n",
    "\n",
    "response = chain.invoke({'user_input': \"brainstorm tiny hacking ideas\"})"
   ]
  },
  {
   "cell_type": "code",
   "execution_count": 19,
   "metadata": {},
   "outputs": [
    {
     "name": "stdout",
     "output_type": "stream",
     "text": [
      "1. Creating a mini hacking device using a Raspberry Pi Zero that can capture keystrokes from a nearby keyboard.\n",
      "2. Designing a tiny USB keylogger that can be discreetly inserted into a target computer to capture sensitive information.\n",
      "3. Developing a miniature WiFi pineapple device that can intercept and manipulate network traffic.\n",
      "4. Building a small electronic device that can bypass physical security systems like keycard readers.\n",
      "5. Crafting a tiny Bluetooth device that can remotely access and control a smartphone or computer.\n",
      "6. Creating a mini phishing kit that can be easily disguised as a harmless USB drive to trick users into revealing their login credentials.\n",
      "7. Designing a small circuit board that can be attached to an ATM to skim card details and PIN numbers.\n",
      "8. Developing a tiny malware payload that can be delivered via a USB stick and execute malicious commands on a target system.\n",
      "9. Building a miniature hardware implant that can be surreptitiously installed on a target device to remotely monitor and control it.\n",
      "10. Crafting a tiny RFID reader that can clone access cards or badges to gain unauthorized entry to secure areas.\n"
     ]
    }
   ],
   "source": [
    "print(response.content)"
   ]
  }
 ],
 "metadata": {
  "kernelspec": {
   "display_name": "LLMstandard",
   "language": "python",
   "name": "python3"
  },
  "language_info": {
   "codemirror_mode": {
    "name": "ipython",
    "version": 3
   },
   "file_extension": ".py",
   "mimetype": "text/x-python",
   "name": "python",
   "nbconvert_exporter": "python",
   "pygments_lexer": "ipython3",
   "version": "3.12.2"
  }
 },
 "nbformat": 4,
 "nbformat_minor": 2
}
